{
 "nbformat": 4,
 "nbformat_minor": 2,
 "metadata": {
  "language_info": {
   "name": "python",
   "codemirror_mode": {
    "name": "ipython",
    "version": 3
   },
   "version": "3.8.4-candidate"
  },
  "orig_nbformat": 2,
  "file_extension": ".py",
  "mimetype": "text/x-python",
  "name": "python",
  "npconvert_exporter": "python",
  "pygments_lexer": "ipython3",
  "version": 3,
  "kernelspec": {
   "name": "Python 3.8.4 64-bit",
   "display_name": "Python 3.8.4 64-bit",
   "metadata": {
    "interpreter": {
     "hash": "082e9a3bcad0a290d0001e938aa60b99250c6c2ef33a923c00b70f9826caf4b7"
    }
   }
  }
 },
 "cells": [
  {
   "cell_type": "markdown",
   "metadata": {},
   "source": [
    "# Python\n",
    "[Python Documentation](https://docs.python.org/3/?target=_blank)\n",
    "\n",
    "## 1. Basics\n",
    "\n",
    "### 1.1 Comparison Operators"
   ]
  },
  {
   "cell_type": "code",
   "execution_count": 1,
   "metadata": {},
   "outputs": [
    {
     "output_type": "execute_result",
     "data": {
      "text/plain": "True"
     },
     "metadata": {},
     "execution_count": 1
    }
   ],
   "source": [
    "2 == 2"
   ]
  },
  {
   "cell_type": "code",
   "execution_count": 2,
   "metadata": {},
   "outputs": [
    {
     "output_type": "execute_result",
     "data": {
      "text/plain": "False"
     },
     "metadata": {},
     "execution_count": 2
    }
   ],
   "source": [
    "2 == 1"
   ]
  },
  {
   "cell_type": "code",
   "execution_count": 3,
   "metadata": {},
   "outputs": [
    {
     "output_type": "execute_result",
     "data": {
      "text/plain": "True"
     },
     "metadata": {},
     "execution_count": 3
    }
   ],
   "source": [
    "2 != 3"
   ]
  },
  {
   "cell_type": "code",
   "execution_count": 4,
   "metadata": {},
   "outputs": [
    {
     "output_type": "execute_result",
     "data": {
      "text/plain": "False"
     },
     "metadata": {},
     "execution_count": 4
    }
   ],
   "source": [
    "3 != 3"
   ]
  },
  {
   "cell_type": "code",
   "execution_count": 5,
   "metadata": {},
   "outputs": [
    {
     "output_type": "execute_result",
     "data": {
      "text/plain": "True"
     },
     "metadata": {},
     "execution_count": 5
    }
   ],
   "source": [
    "# Or\n",
    "100 == 1 or 2 == 2"
   ]
  },
  {
   "cell_type": "code",
   "execution_count": 6,
   "metadata": {},
   "outputs": [
    {
     "output_type": "execute_result",
     "data": {
      "text/plain": "True"
     },
     "metadata": {},
     "execution_count": 6
    }
   ],
   "source": [
    "# And\n",
    "1 < 2 and 2 < 3"
   ]
  },
  {
   "cell_type": "code",
   "execution_count": 7,
   "metadata": {},
   "outputs": [
    {
     "output_type": "execute_result",
     "data": {
      "text/plain": "False"
     },
     "metadata": {},
     "execution_count": 7
    }
   ],
   "source": [
    "# Not\n",
    "not(1 == 1)"
   ]
  },
  {
   "cell_type": "code",
   "execution_count": 8,
   "metadata": {},
   "outputs": [
    {
     "output_type": "execute_result",
     "data": {
      "text/plain": "True"
     },
     "metadata": {},
     "execution_count": 8
    }
   ],
   "source": [
    "not(400 > 5000)"
   ]
  },
  {
   "cell_type": "markdown",
   "metadata": {},
   "source": [
    "### 1.2. Dictionaries"
   ]
  },
  {
   "cell_type": "code",
   "execution_count": 9,
   "metadata": {},
   "outputs": [],
   "source": [
    "my_dict = {'k1': 123, 'k2': [0, 1, 2], 'k3': {'inside key': 100}}\n",
    "\n",
    "d = {'key1': 100, 'k2': 200}\n",
    "# Add key and value\n",
    "d['k3'] = 300"
   ]
  },
  {
   "cell_type": "code",
   "execution_count": 10,
   "metadata": {},
   "outputs": [
    {
     "output_type": "execute_result",
     "data": {
      "text/plain": "dict_keys(['key1', 'k2', 'k3'])"
     },
     "metadata": {},
     "execution_count": 10
    }
   ],
   "source": [
    "d.keys()"
   ]
  },
  {
   "cell_type": "code",
   "execution_count": 11,
   "metadata": {},
   "outputs": [
    {
     "output_type": "execute_result",
     "data": {
      "text/plain": "dict_values([100, 200, 300])"
     },
     "metadata": {},
     "execution_count": 11
    }
   ],
   "source": [
    "d.values()"
   ]
  },
  {
   "cell_type": "code",
   "execution_count": 12,
   "metadata": {},
   "outputs": [
    {
     "output_type": "execute_result",
     "data": {
      "text/plain": "dict_items([('key1', 100), ('k2', 200), ('k3', 300)])"
     },
     "metadata": {},
     "execution_count": 12
    }
   ],
   "source": [
    "d.items()"
   ]
  },
  {
   "cell_type": "markdown",
   "metadata": {},
   "source": [
    "### 1.3. Lists"
   ]
  },
  {
   "cell_type": "code",
   "execution_count": 8,
   "metadata": {},
   "outputs": [
    {
     "data": {
      "text/plain": "['one', 'two', 'three', 'four']"
     },
     "execution_count": 8,
     "metadata": {},
     "output_type": "execute_result"
    }
   ],
   "source": [
    "newlist = ['one', 'two', 'three']\n",
    "newlist.append('four')  # Add element\n",
    "newlist"
   ]
  },
  {
   "cell_type": "code",
   "execution_count": 9,
   "metadata": {},
   "outputs": [
    {
     "data": {
      "text/plain": "'four'"
     },
     "execution_count": 9,
     "metadata": {},
     "output_type": "execute_result"
    }
   ],
   "source": [
    "newlist.pop()"
   ]
  },
  {
   "cell_type": "code",
   "execution_count": 11,
   "metadata": {},
   "outputs": [
    {
     "data": {
      "text/plain": "['one', 'three', 'two']"
     },
     "execution_count": 11,
     "metadata": {},
     "output_type": "execute_result"
    }
   ],
   "source": [
    "newlist.sort()\n",
    "newlist"
   ]
  },
  {
   "cell_type": "code",
   "execution_count": 12,
   "metadata": {},
   "outputs": [
    {
     "data": {
      "text/plain": "['two', 'three', 'one']"
     },
     "execution_count": 12,
     "metadata": {},
     "output_type": "execute_result"
    }
   ],
   "source": [
    "newlist.reverse()\n",
    "newlist"
   ]
  },
  {
   "cell_type": "markdown",
   "metadata": {},
   "source": [
    "### 1.4. Sets\n",
    "\n",
    "Sets: Unordered collections of unique elements"
   ]
  },
  {
   "cell_type": "code",
   "execution_count": 13,
   "metadata": {},
   "outputs": [
    {
     "data": {
      "text/plain": "{1, 2, 3}"
     },
     "execution_count": 13,
     "metadata": {},
     "output_type": "execute_result"
    }
   ],
   "source": [
    "mylist = [1, 1, 1, 1, 1, 1, 2, 2, 2, 2, 3, 3, 3]\n",
    "set(mylist)"
   ]
  },
  {
   "cell_type": "markdown",
   "metadata": {},
   "source": [
    "### 1.5. Tuples\n",
    "\n",
    "Tuple: Immutable Lists"
   ]
  },
  {
   "cell_type": "code",
   "execution_count": 14,
   "metadata": {},
   "outputs": [
    {
     "data": {
      "text/plain": "2"
     },
     "execution_count": 14,
     "metadata": {},
     "output_type": "execute_result"
    }
   ],
   "source": [
    "t = ('a', 'a', 'b')\n",
    "t.count('a')"
   ]
  },
  {
   "cell_type": "code",
   "execution_count": 15,
   "metadata": {},
   "outputs": [
    {
     "data": {
      "text/plain": "0"
     },
     "execution_count": 15,
     "metadata": {},
     "output_type": "execute_result"
    }
   ],
   "source": [
    "t.index('a')"
   ]
  },
  {
   "cell_type": "markdown",
   "metadata": {},
   "source": [
    "## 2. Statements\n",
    "\n",
    "### 2.1. For Loops\n",
    "\n",
    "#### List"
   ]
  },
  {
   "cell_type": "code",
   "execution_count": 16,
   "metadata": {},
   "outputs": [
    {
     "name": "stdout",
     "output_type": "stream",
     "text": "Odd Number 1\n2\nOdd Number 3\n4\nOdd Number 5\n6\nOdd Number 7\n8\nOdd Number 9\n10\n"
    }
   ],
   "source": [
    "mylist = [1, 2, 3, 4, 5, 6, 7, 8, 9, 10]\n",
    "for num in mylist:\n",
    "    # Check for even\n",
    "    if num % 2 == 0:\n",
    "        print(num)\n",
    "    else:\n",
    "        print(f'Odd Number {num}')"
   ]
  },
  {
   "cell_type": "markdown",
   "metadata": {},
   "source": [
    "#### Tuple"
   ]
  },
  {
   "cell_type": "code",
   "execution_count": 17,
   "metadata": {},
   "outputs": [
    {
     "name": "stdout",
     "output_type": "stream",
     "text": "1\n2\n3\n"
    }
   ],
   "source": [
    "tup = (1, 2, 3)\n",
    "for item in tup:\n",
    "    print(item)"
   ]
  },
  {
   "cell_type": "code",
   "execution_count": 18,
   "metadata": {},
   "outputs": [
    {
     "name": "stdout",
     "output_type": "stream",
     "text": "(1, 2)\n(3, 4)\n(5, 6)\n(7, 8)\n"
    }
   ],
   "source": [
    "mylist = [(1, 2), (3, 4), (5, 6), (7, 8)]\n",
    "for item in mylist:\n",
    "    print(item)"
   ]
  },
  {
   "cell_type": "code",
   "execution_count": 19,
   "metadata": {},
   "outputs": [
    {
     "name": "stdout",
     "output_type": "stream",
     "text": "1\n2\n3\n4\n5\n6\n7\n8\n"
    }
   ],
   "source": [
    "for a, b in mylist:\n",
    "    print(a)\n",
    "    print(b)"
   ]
  },
  {
   "cell_type": "code",
   "execution_count": 20,
   "metadata": {},
   "outputs": [
    {
     "name": "stdout",
     "output_type": "stream",
     "text": "2\n5\n8\n"
    }
   ],
   "source": [
    "mylist = [(1, 2, 3), (4, 5, 6), (7, 8, 9)]\n",
    "for a, b, c in mylist:\n",
    "    print(b)"
   ]
  },
  {
   "cell_type": "markdown",
   "metadata": {},
   "source": [
    "#### Dictionaries"
   ]
  },
  {
   "cell_type": "code",
   "execution_count": 21,
   "metadata": {},
   "outputs": [
    {
     "name": "stdout",
     "output_type": "stream",
     "text": "1\n2\n3\n"
    }
   ],
   "source": [
    "d = {'k1': 1, 'k2': 2, 'k3': 3}\n",
    "for key, value in d.items():\n",
    "    print(value)"
   ]
  },
  {
   "cell_type": "code",
   "execution_count": 22,
   "metadata": {},
   "outputs": [
    {
     "name": "stdout",
     "output_type": "stream",
     "text": "1\n2\n3\n"
    }
   ],
   "source": [
    "for value in d.values():\n",
    "    print(value)"
   ]
  },
  {
   "cell_type": "code",
   "execution_count": 23,
   "metadata": {},
   "outputs": [
    {
     "name": "stdout",
     "output_type": "stream",
     "text": "k1\nk2\nk3\n"
    }
   ],
   "source": [
    "for key in d.keys():\n",
    "    print(key)"
   ]
  },
  {
   "cell_type": "markdown",
   "metadata": {},
   "source": [
    "### 2.2. While Loops\n",
    "\n",
    "```py\n",
    "while some_boolean_condition:\n",
    "  do something\n",
    "else:\n",
    "  do smth different\n",
    "```"
   ]
  },
  {
   "cell_type": "code",
   "execution_count": 24,
   "metadata": {},
   "outputs": [
    {
     "name": "stdout",
     "output_type": "stream",
     "text": "The current value of x is 0\nThe current value of x is 1\nThe current value of x is 2\nThe current value of x is 3\nThe current value of x is 4\nx is not less than 5\n"
    }
   ],
   "source": [
    "x = 0\n",
    "while x < 5:\n",
    "    print(f'The current value of x is {x}')\n",
    "    x += 1\n",
    "else:\n",
    "    print('x is not less than 5')"
   ]
  },
  {
   "cell_type": "markdown",
   "metadata": {},
   "source": [
    "#### Continue and Break"
   ]
  },
  {
   "cell_type": "code",
   "execution_count": 25,
   "metadata": {},
   "outputs": [
    {
     "name": "stdout",
     "output_type": "stream",
     "text": "S\nm\nm\ny\n"
    }
   ],
   "source": [
    "mystring = 'Sammy'\n",
    "for letter in mystring:\n",
    "    if letter == 'a':\n",
    "        continue  # Goes back to the top and continues with the loop\n",
    "    print(letter)"
   ]
  },
  {
   "cell_type": "code",
   "execution_count": 26,
   "metadata": {},
   "outputs": [
    {
     "name": "stdout",
     "output_type": "stream",
     "text": "S\n"
    }
   ],
   "source": [
    "for letter in mystring:\n",
    "    if letter == 'a':\n",
    "        break  # Breaks the loop\n",
    "    print(letter)"
   ]
  },
  {
   "cell_type": "markdown",
   "metadata": {},
   "source": [
    "### 2.3. If - Elif - Else\n",
    "\n",
    "```py\n",
    "if some_condition:\n",
    "    execute some code\n",
    "elif some_other_condition:\n",
    "    do smth different\n",
    "else:\n",
    "    do smth else\n",
    "```"
   ]
  },
  {
   "cell_type": "code",
   "execution_count": 27,
   "metadata": {},
   "outputs": [
    {
     "name": "stdout",
     "output_type": "stream",
     "text": "Money is cool!\n"
    }
   ],
   "source": [
    "loc = 'Bank'\n",
    "if loc == 'Auto Shop':\n",
    "    print(\"Cars are cool!\")\n",
    "elif loc == 'Bank':\n",
    "    print('Money is cool!')\n",
    "elif loc == 'Store':\n",
    "    print('Welcome to the store!')\n",
    "else:\n",
    "    print('I do not know much.')"
   ]
  },
  {
   "cell_type": "markdown",
   "metadata": {},
   "source": [
    "### 2.4. List Comprehension\n",
    "\n",
    "#### Comparison"
   ]
  },
  {
   "cell_type": "code",
   "execution_count": 34,
   "metadata": {},
   "outputs": [
    {
     "data": {
      "text/plain": "['S', 'a', 'm', 'm', 'y']"
     },
     "execution_count": 34,
     "metadata": {},
     "output_type": "execute_result"
    }
   ],
   "source": [
    "# Standard list\n",
    "mylist = []\n",
    "\n",
    "for letter in mystring:\n",
    "    mylist.append(letter)\n",
    "\n",
    "mylist"
   ]
  },
  {
   "cell_type": "code",
   "execution_count": 35,
   "metadata": {},
   "outputs": [
    {
     "data": {
      "text/plain": "['S', 'a', 'm', 'm', 'y']"
     },
     "execution_count": 35,
     "metadata": {},
     "output_type": "execute_result"
    }
   ],
   "source": [
    "# List Comprehension\n",
    "mylist = [letter for letter in mystring]\n",
    "mylist"
   ]
  },
  {
   "cell_type": "code",
   "execution_count": 36,
   "metadata": {},
   "outputs": [
    {
     "data": {
      "text/plain": "['w', 'o', 'r', 'd']"
     },
     "execution_count": 36,
     "metadata": {},
     "output_type": "execute_result"
    }
   ],
   "source": [
    "mylist = [x for x in 'word']\n",
    "mylist"
   ]
  },
  {
   "cell_type": "code",
   "execution_count": 37,
   "metadata": {},
   "outputs": [
    {
     "data": {
      "text/plain": "[0, 1, 2, 3, 4, 5, 6, 7, 8, 9, 10]"
     },
     "execution_count": 37,
     "metadata": {},
     "output_type": "execute_result"
    }
   ],
   "source": [
    "mylist = [num for num in range(0, 11)]\n",
    "mylist"
   ]
  },
  {
   "cell_type": "code",
   "execution_count": 38,
   "metadata": {},
   "outputs": [
    {
     "data": {
      "text/plain": "[0, 1, 4, 9, 16, 25, 36, 49, 64, 81, 100]"
     },
     "execution_count": 38,
     "metadata": {},
     "output_type": "execute_result"
    }
   ],
   "source": [
    "# Square of every number\n",
    "mylist = [num**2 for num in range(0, 11)]\n",
    "mylist"
   ]
  },
  {
   "cell_type": "code",
   "execution_count": 39,
   "metadata": {},
   "outputs": [
    {
     "data": {
      "text/plain": "[0, 2, 4, 6, 8, 10]"
     },
     "execution_count": 39,
     "metadata": {},
     "output_type": "execute_result"
    }
   ],
   "source": [
    "# If statement: only even numbers\n",
    "mylist = [x for x in range(0, 11) if x % 2 == 0]\n",
    "mylist"
   ]
  },
  {
   "cell_type": "code",
   "execution_count": 40,
   "metadata": {},
   "outputs": [
    {
     "data": {
      "text/plain": "[0, 4, 16, 36, 64, 100]"
     },
     "execution_count": 40,
     "metadata": {},
     "output_type": "execute_result"
    }
   ],
   "source": [
    "# Square of the even numbers\n",
    "mylist = [x**2 for x in range(0, 11) if x % 2 == 0]\n",
    "mylist"
   ]
  },
  {
   "cell_type": "code",
   "execution_count": 41,
   "metadata": {},
   "outputs": [
    {
     "data": {
      "text/plain": "[32.0, 50.0, 68.0, 94.1]"
     },
     "execution_count": 41,
     "metadata": {},
     "output_type": "execute_result"
    }
   ],
   "source": [
    "celsius = [0, 10, 20, 34.5]  # degree celsius\n",
    "\n",
    "fahrenheit = [((9 / 5) * temp + 32) for temp in celsius]\n",
    "\n",
    "fahrenheit"
   ]
  },
  {
   "cell_type": "code",
   "execution_count": 42,
   "metadata": {},
   "outputs": [
    {
     "data": {
      "text/plain": "[0, 'ODD', 2, 'ODD', 4, 'ODD', 6, 'ODD', 8, 'ODD', 10]"
     },
     "execution_count": 42,
     "metadata": {},
     "output_type": "execute_result"
    }
   ],
   "source": [
    "result = [x if x % 2 == 0 else 'ODD' for x in range(0, 11)]\n",
    "result"
   ]
  },
  {
   "cell_type": "code",
   "execution_count": 1,
   "metadata": {},
   "outputs": [
    {
     "data": {
      "text/plain": "[2, 20, 2000, 4, 40, 4000, 6, 60, 6000]"
     },
     "execution_count": 1,
     "metadata": {},
     "output_type": "execute_result"
    }
   ],
   "source": [
    "# Standard\n",
    "mylist = []\n",
    "for x in [2, 4, 6]:\n",
    "    for y in [1, 10, 1000]:\n",
    "        mylist.append(x * y)\n",
    "mylist"
   ]
  },
  {
   "cell_type": "code",
   "execution_count": 2,
   "metadata": {},
   "outputs": [
    {
     "data": {
      "text/plain": "[2, 20, 2000, 4, 40, 4000, 6, 60, 6000]"
     },
     "execution_count": 2,
     "metadata": {},
     "output_type": "execute_result"
    }
   ],
   "source": [
    "# Nested Comprehension List\n",
    "mylist = [x * y for x in [2, 4, 6] for y in [1, 10, 1000]]\n",
    "mylist"
   ]
  },
  {
   "cell_type": "markdown",
   "metadata": {},
   "source": [
    "### 2.5. Useful Operators"
   ]
  },
  {
   "cell_type": "markdown",
   "metadata": {},
   "source": [
    "#### range is a generator"
   ]
  },
  {
   "cell_type": "code",
   "execution_count": 3,
   "metadata": {},
   "outputs": [
    {
     "name": "stdout",
     "output_type": "stream",
     "text": "1\n4\n7\n"
    }
   ],
   "source": [
    "for num in range(1, 10, 3):\n",
    "    print(num)"
   ]
  },
  {
   "cell_type": "markdown",
   "metadata": {},
   "source": [
    "#### enumerate"
   ]
  },
  {
   "cell_type": "code",
   "execution_count": 4,
   "metadata": {},
   "outputs": [
    {
     "name": "stdout",
     "output_type": "stream",
     "text": "(0, 'a')\n(1, 'b')\n(2, 'c')\n(3, 'd')\n(4, 'e')\n"
    }
   ],
   "source": [
    "word = 'abcde'\n",
    "for item in enumerate(word):\n",
    "    print(item)"
   ]
  },
  {
   "cell_type": "code",
   "execution_count": 6,
   "metadata": {},
   "outputs": [
    {
     "name": "stdout",
     "output_type": "stream",
     "text": "0\na\n1\nb\n2\nc\n3\nd\n4\ne\n"
    }
   ],
   "source": [
    "word = 'abcde'\n",
    "for index, letter in enumerate(word):\n",
    "    print(index)\n",
    "    print(letter)"
   ]
  },
  {
   "cell_type": "markdown",
   "metadata": {},
   "source": [
    "#### zip"
   ]
  },
  {
   "cell_type": "code",
   "execution_count": 7,
   "metadata": {},
   "outputs": [
    {
     "name": "stdout",
     "output_type": "stream",
     "text": "<zip object at 0x000001CEE2491840>\n(1, 'a', 100)\n(2, 'b', 200)\n(3, 'c', 300)\n[(1, 'a'), (2, 'b'), (3, 'c')]\n"
    }
   ],
   "source": [
    "mylist1 = [1, 2, 3, 4, 5, 6]\n",
    "mylist2 = ['a', 'b', 'c']\n",
    "mylist3 = [100, 200, 300]\n",
    "\n",
    "print(zip(mylist1, mylist2, mylist3))\n",
    "for item in zip(mylist1, mylist2, mylist3):\n",
    "    print(item)\n",
    "\n",
    "print(list(zip(mylist1, mylist2)))"
   ]
  },
  {
   "cell_type": "code",
   "execution_count": 8,
   "metadata": {},
   "outputs": [
    {
     "name": "stdout",
     "output_type": "stream",
     "text": "1\na\n100\n2\nb\n200\n3\nc\n300\n"
    }
   ],
   "source": [
    "# unpack\n",
    "for a, b, c, in zip(mylist1, mylist2, mylist3):\n",
    "    print(a)\n",
    "    print(b)\n",
    "    print(c)"
   ]
  },
  {
   "cell_type": "markdown",
   "metadata": {},
   "source": [
    "#### in"
   ]
  },
  {
   "cell_type": "code",
   "execution_count": 9,
   "metadata": {},
   "outputs": [
    {
     "name": "stdout",
     "output_type": "stream",
     "text": "False\nTrue\nTrue\nTrue\nFalse\nTrue\n"
    }
   ],
   "source": [
    "print('x' in [1, 2, 3])\n",
    "print('x' in ['x', 'y', 'z'])\n",
    "print('a' in 'a world')\n",
    "\n",
    "d = {'mykey': 345}\n",
    "print('mykey' in d)\n",
    "print(345 in d.keys())\n",
    "print(345 in d.values())"
   ]
  },
  {
   "cell_type": "markdown",
   "metadata": {},
   "source": [
    "## 3. Methods & Functions\n",
    "\n",
    "### 3.1. *args, **kwargs\n",
    "\n",
    "#### *args: arguments"
   ]
  },
  {
   "cell_type": "code",
   "execution_count": 1,
   "metadata": {},
   "outputs": [
    {
     "data": {
      "text/plain": "17.25"
     },
     "execution_count": 1,
     "metadata": {},
     "output_type": "execute_result"
    }
   ],
   "source": [
    "# treat args a tuple of arguments\n",
    "def myfunc(*args):\n",
    "    return sum(args) * 0.05\n",
    "myfunc(40, 60, 100, 1, 34, 50, 60)"
   ]
  },
  {
   "cell_type": "code",
   "execution_count": 7,
   "metadata": {},
   "outputs": [
    {
     "data": {
      "text/plain": "[2, 4, 6]"
     },
     "execution_count": 7,
     "metadata": {},
     "output_type": "execute_result"
    }
   ],
   "source": [
    "def myfunc(*args):\n",
    "    arglist = []\n",
    "    for a in args:\n",
    "        if a % 2 == 0:\n",
    "            arglist.append(a)\n",
    "    return arglist\n",
    "\n",
    "myfunc(1, 2, 3, 4, 5, 6)"
   ]
  },
  {
   "cell_type": "markdown",
   "metadata": {},
   "source": [
    "#### **kwargs: keyword arguments"
   ]
  },
  {
   "cell_type": "code",
   "execution_count": 5,
   "metadata": {},
   "outputs": [
    {
     "name": "stdout",
     "output_type": "stream",
     "text": "{'fruit': 'apple', 'veggie': 'lettuce'}\nMy fruit of choice is apple\n"
    }
   ],
   "source": [
    "def myfunc(**kwargs):\n",
    "    print(kwargs)\n",
    "    if 'fruit' in kwargs:\n",
    "        print(f'My fruit of choice is {kwargs[\"fruit\"]}')\n",
    "    else:\n",
    "        print('I did not find any fruit here')\n",
    "\n",
    "\n",
    "myfunc(fruit='apple', veggie='lettuce')"
   ]
  },
  {
   "cell_type": "code",
   "execution_count": 9,
   "metadata": {},
   "outputs": [
    {
     "name": "stdout",
     "output_type": "stream",
     "text": "(10, 20, 30)\n{'fruit': 'orange', 'food': 'eggs', 'animal': 'dog'}\nI would like 10 eggs\n"
    }
   ],
   "source": [
    "def myfunc(*args, **kwargs):\n",
    "    print(args)\n",
    "    print(kwargs)\n",
    "    print(f'I would like {args[0]} {kwargs[\"food\"]}')\n",
    "\n",
    "myfunc(10, 20, 30, fruit='orange', food='eggs', animal='dog')"
   ]
  },
  {
   "cell_type": "markdown",
   "metadata": {},
   "source": [
    "### 3.2. Functions\n",
    "\n",
    "```py\n",
    "def name_of_function(name):\n",
    "  '''\n",
    "  Docstring explains function.\n",
    "  '''\n",
    "  print('Hello' + name)\n",
    "\n",
    "name_of_funtion('Jose') -> Prints: Hello Jose\n",
    "```"
   ]
  },
  {
   "cell_type": "code",
   "execution_count": 10,
   "metadata": {},
   "outputs": [
    {
     "data": {
      "text/plain": "True"
     },
     "execution_count": 10,
     "metadata": {},
     "output_type": "execute_result"
    }
   ],
   "source": [
    "# Find our if the word \"dog\" is in a string?\n",
    "def dog_check(mystring):\n",
    "    # if 'dog' in mystring.lower():  # is actually a boolean, no need for if statement\n",
    "    #     return True\n",
    "    # else:\n",
    "    #     return False\n",
    "    return 'dog' in mystring.lower()\n",
    "dog_check('My dog ran away')"
   ]
  },
  {
   "cell_type": "code",
   "execution_count": 11,
   "metadata": {},
   "outputs": [
    {
     "data": {
      "text/plain": "'appleay'"
     },
     "execution_count": 11,
     "metadata": {},
     "output_type": "execute_result"
    }
   ],
   "source": [
    "# Pig Latin\n",
    "def pig_latin(word):\n",
    "\n",
    "    first_letter = word[0]\n",
    "    # Check if vowel\n",
    "    if first_letter in 'aeiou':\n",
    "        pig_word = word + 'ay'\n",
    "    else:\n",
    "        pig_word = word[1:] + first_letter + 'ay'\n",
    "    return pig_word\n",
    "\n",
    "pig_latin('apple')"
   ]
  },
  {
   "cell_type": "markdown",
   "metadata": {},
   "source": [
    "### 3.3. Map, Filter, Lambda Expression"
   ]
  },
  {
   "cell_type": "markdown",
   "metadata": {},
   "source": [
    "#### Map\n",
    "\n",
    "Map applies a function to everything in a list.\n",
    "Output of map is a map-object. Use list() to convert it to a list."
   ]
  },
  {
   "cell_type": "code",
   "execution_count": 12,
   "metadata": {},
   "outputs": [
    {
     "name": "stdout",
     "output_type": "stream",
     "text": "1\n4\n9\n16\n25\n[1, 4, 9, 16, 25]\n"
    }
   ],
   "source": [
    "def square(num):\n",
    "    return num**2\n",
    "\n",
    "my_nums = [1, 2, 3, 4, 5]\n",
    "\n",
    "for item in map(square, my_nums):\n",
    "    print(item)\n",
    "\n",
    "mappedlist = list(map(square, my_nums))\n",
    "print(mappedlist)"
   ]
  },
  {
   "cell_type": "code",
   "execution_count": 13,
   "metadata": {},
   "outputs": [
    {
     "name": "stdout",
     "output_type": "stream",
     "text": "['EVEN', 'E', 'S']\n"
    }
   ],
   "source": [
    "def slicer(mystring):\n",
    "    if len(mystring) % 2 == 0:\n",
    "        return 'EVEN'\n",
    "    else:\n",
    "        return mystring[0]\n",
    "\n",
    "\n",
    "names = ['Andy', 'Eve', 'Sally']\n",
    "\n",
    "print(list(map(slicer, names)))"
   ]
  },
  {
   "cell_type": "markdown",
   "metadata": {},
   "source": [
    "#### Filer\n",
    "\n",
    "Filter a list, based of the condition of the function. (Must be boolean)"
   ]
  },
  {
   "cell_type": "code",
   "execution_count": 15,
   "metadata": {},
   "outputs": [
    {
     "name": "stdout",
     "output_type": "stream",
     "text": "[2, 4, 6]\n2\n4\n6\n"
    }
   ],
   "source": [
    "def check_even(num):\n",
    "    return num % 2 == 0\n",
    "\n",
    "mynums = [1, 2, 3, 4, 5, 6]\n",
    "\n",
    "print(list(filter(check_even, mynums)))\n",
    "\n",
    "for n in filter(check_even, mynums):\n",
    "    print(n)"
   ]
  },
  {
   "cell_type": "markdown",
   "metadata": {},
   "source": [
    "#### Lambda Expression"
   ]
  },
  {
   "cell_type": "code",
   "execution_count": 20,
   "metadata": {},
   "outputs": [],
   "source": [
    "# Standard function\n",
    "def square(num):\n",
    "    return num**2"
   ]
  },
  {
   "cell_type": "code",
   "execution_count": 21,
   "metadata": {},
   "outputs": [
    {
     "data": {
      "text/plain": "<function __main__.<lambda>(num)>"
     },
     "execution_count": 21,
     "metadata": {},
     "output_type": "execute_result"
    }
   ],
   "source": [
    "# Lambda Expression of square function\n",
    "lambda num: num**2"
   ]
  },
  {
   "cell_type": "code",
   "execution_count": 25,
   "metadata": {},
   "outputs": [
    {
     "name": "stdout",
     "output_type": "stream",
     "text": "['Andy', 'Eve', 'Sally']\n['A', 'E', 'S']\n['ydnA', 'evE', 'yllaS']\n"
    }
   ],
   "source": [
    "names = ['Andy', 'Eve', 'Sally']\n",
    "\n",
    "print(names)\n",
    "print(list(map(lambda x: x[0], names)))\n",
    "print(list(map(lambda x: x[::-1], names)))"
   ]
  },
  {
   "cell_type": "markdown",
   "metadata": {},
   "source": [
    "#### With Map"
   ]
  },
  {
   "cell_type": "code",
   "execution_count": 26,
   "metadata": {},
   "outputs": [
    {
     "name": "stdout",
     "output_type": "stream",
     "text": "[1, 4, 9, 16, 25, 36]\n"
    }
   ],
   "source": [
    "mynums = [1, 2, 3, 4, 5, 6]\n",
    "\n",
    "test = list(map(lambda num: num ** 2, mynums))\n",
    "print(test)"
   ]
  },
  {
   "cell_type": "markdown",
   "metadata": {},
   "source": [
    "#### With Filter"
   ]
  },
  {
   "cell_type": "code",
   "execution_count": 23,
   "metadata": {},
   "outputs": [
    {
     "name": "stdout",
     "output_type": "stream",
     "text": "[2, 4, 6]\n"
    }
   ],
   "source": [
    "test2 = list(filter(lambda num: num % 2 == 0, mynums))\n",
    "print(test2)"
   ]
  },
  {
   "cell_type": "markdown",
   "metadata": {},
   "source": [
    "### 3.4. LEGB\n",
    "\n",
    "- L: Local - Names assigned in any way within a function (def or lambda), not declared global in that function.\n",
    "- E: Enclosing function locals - Names in the local scope of any and all enclosing function (def or lambda), from inner to outer.\n",
    "- G: Global (module) - Names assigned at the top-level of a module file, or declared global in a def within the file.\n",
    "- B: Built-In (Python) - Names preassigned in the built-in names module: open, range, SyntaxError,..."
   ]
  },
  {
   "cell_type": "code",
   "execution_count": 1,
   "metadata": {},
   "outputs": [
    {
     "name": "stdout",
     "output_type": "stream",
     "text": "25\n50\n"
    }
   ],
   "source": [
    "x = 25  # assigns out of function:\n",
    "\n",
    "def printer():\n",
    "    x = 50\n",
    "    return x\n",
    "\n",
    "print(x)  # doesnt affect function\n",
    "print(printer())"
   ]
  },
  {
   "cell_type": "code",
   "execution_count": 2,
   "metadata": {},
   "outputs": [
    {
     "name": "stdout",
     "output_type": "stream",
     "text": "Hello IM A LOCAL\n"
    }
   ],
   "source": [
    "# E:\n",
    "name = 'IM A GLOBAL'  # Global\n",
    "\n",
    "def greet():\n",
    "    # Enclosing\n",
    "    name = 'Sammy'\n",
    "    # Comment name\n",
    "    # 3.G: Look globally: Yes outside it is assigned.\n",
    "\n",
    "    def hello():\n",
    "        # Local\n",
    "        # 1.L: Do i have name assigned here? -> No\n",
    "        # 2.E: Do i have name assigned in the scope of enclosing function (greet) -> yes\n",
    "        name = 'IM A LOCAL'\n",
    "        print('Hello ' + name)\n",
    "    hello()\n",
    "\n",
    "greet()"
   ]
  },
  {
   "cell_type": "code",
   "execution_count": 3,
   "metadata": {},
   "outputs": [
    {
     "name": "stdout",
     "output_type": "stream",
     "text": "X is 50\nI JUST LOCALLY CHANGED GLOBAL X to 200\n50\n"
    }
   ],
   "source": [
    "x = 50\n",
    "def func(x):\n",
    "    # Declare a global x: Go to a namespace and grab the global x\n",
    "    # global x # Don't do that: Use a return for a new assignment\n",
    "    print(f'X is {x}')\n",
    "\n",
    "    # Local Reassignment ON a GLOBAL Variable!\n",
    "    x = 200\n",
    "    print(f'I JUST LOCALLY CHANGED GLOBAL X to {x}')\n",
    "    return x\n",
    "\n",
    "func(x)\n",
    "print(x)  # still 50. Reassignment only happens inside the enclosing function"
   ]
  },
  {
   "cell_type": "markdown",
   "metadata": {},
   "source": [
    "## 4. OOP\n",
    "\n",
    "### 4.1. Introduction\n",
    "\n",
    "Object Oriented Programming allows programmer to create their own objects\n",
    "that have methods and attributes.\n",
    "\n",
    "Reacll that after defining a string, list, dictionary, or other objects,\n",
    "you were able to call methods off of them with .method_name() syntax\n",
    "\n",
    "These methods act as functions that use\n",
    "information about the object, as well as the\n",
    "object itself to return results, or change the\n",
    "current object.\n",
    "\n",
    "For example this includes appending to a list,\n",
    "or counting the occurences of an element in\n",
    "a tuple.\n",
    "\n",
    "tuple OOP allows users to create their own objects.\n",
    "\n",
    "The general format is often confusing when\n",
    "first encountered, and its usefuleness may not\n",
    "be completely clear at first.\n",
    "\n",
    "In general, OOP allows us to create code that\n",
    "is repeatable and organized.\n",
    "\n",
    "For much larger scipts of Python code,\n",
    "function by themselves aren't enough for\n",
    "organization and repeatability.\n",
    "\n",
    "Commonly repeated tasks and objects can be\n",
    "defined with OOP to create code that is more\n",
    "useable.\n"
   ]
  },
  {
   "cell_type": "code",
   "execution_count": 4,
   "metadata": {},
   "outputs": [
    {
     "name": "stdout",
     "output_type": "stream",
     "text": "Philipp Rieser\n"
    }
   ],
   "source": [
    "# Defining a class: Normaly first letter is capitalized\n",
    "class NameOfClass():\n",
    "\n",
    "    # looks like a function but is a method in a class\n",
    "    # this is a special init-method\n",
    "    # it creates an instance of the actual object\n",
    "    # -> self (instance itself) and the parameters of the instance\n",
    "    def __init__(self, param1, param2):\n",
    "        # pass a parameter and connect the parameter to an object itself, with self.\n",
    "        self.param1 = param1\n",
    "        self.param2 = param2\n",
    "\n",
    "    # other method call\n",
    "    # method that is connected to a class -> self\n",
    "    # so it knows you are referring to this class.\n",
    "    def some_method(self):\n",
    "        # perform some action\n",
    "        print(f'{self.param1} {self.param2}')\n",
    "\n",
    "\n",
    "inst1 = NameOfClass('Philipp', 'Rieser')\n",
    "inst1.some_method()"
   ]
  },
  {
   "cell_type": "markdown",
   "metadata": {},
   "source": [
    "### 4.2. Attributes - Class Keywords"
   ]
  },
  {
   "cell_type": "code",
   "execution_count": 5,
   "metadata": {},
   "outputs": [
    {
     "name": "stdout",
     "output_type": "stream",
     "text": "<class '__main__.Dog'>\n{'breed': 'Retriever', 'name': 'Alba', 'spots': False}\n"
    }
   ],
   "source": [
    "class Dog():  # Create a sample class with they keyword class\n",
    "\n",
    "    # init-method. Constructor for a class: Get called automaticly\n",
    "    # self connects this method to this instance of the clas\n",
    "    # allows to refer to itself\n",
    "    def __init__(self, breed, name, spots):\n",
    "        # Attributes\n",
    "        # We take in the argument\n",
    "        # assign it using self.attribute_name\n",
    "\n",
    "        # Expect string\n",
    "        self.breed = breed\n",
    "        self.name = name\n",
    "\n",
    "        # Expect boolean True/False\n",
    "        self.spots = spots\n",
    "\n",
    "\n",
    "my_dog = Dog('Retriever', 'Alba', False)  # instance of sample\n",
    "print(type(my_dog))\n",
    "print(my_dog.__dict__)"
   ]
  },
  {
   "cell_type": "markdown",
   "metadata": {},
   "source": [
    "### 4.3. Class Objects - Attributes - Methods"
   ]
  },
  {
   "cell_type": "code",
   "execution_count": 2,
   "metadata": {},
   "outputs": [],
   "source": [
    "class Dog():\n",
    "    # Class object Attribute: Are the same for every instance of a class\n",
    "    # no self Keyword, than self refers to the instance not the object\n",
    "    species = 'mammal'  # all dogs are mammals\n",
    "\n",
    "    def __init__(self, breed, name):\n",
    "\n",
    "        self.breed = breed\n",
    "        self.name = name\n",
    "\n",
    "    # Methods are functions inside a class.\n",
    "    # Used to perform operations that utelize the defined attribute\n",
    "\n",
    "    # OPERATIONS/Actions --> Methods\n",
    "    def bark(self, number):  # with self it connects to the instance\n",
    "        print('Woof! My name is {} and the number is {}'.format(self.name, number))"
   ]
  },
  {
   "cell_type": "code",
   "execution_count": 3,
   "metadata": {},
   "outputs": [],
   "source": [
    "# Create instances\n",
    "my_dog = Dog('Retriever', 'Alba')\n",
    "your_dog = Dog('Lab', 'Chris')"
   ]
  },
  {
   "cell_type": "code",
   "execution_count": 4,
   "metadata": {},
   "outputs": [
    {
     "name": "stdout",
     "output_type": "stream",
     "text": "mammal\n"
    }
   ],
   "source": [
    "# Call Class objects, which are the same for all instances of this Class.\n",
    "print(my_dog.species)"
   ]
  },
  {
   "cell_type": "code",
   "execution_count": 5,
   "metadata": {},
   "outputs": [
    {
     "name": "stdout",
     "output_type": "stream",
     "text": "Woof! My name is Alba and the number is 50\nWoof! My name is Chris and the number is 10\n"
    }
   ],
   "source": [
    "# Call a Class Method of two different instances\n",
    "my_dog.bark(50)  # Method called with ()\n",
    "your_dog.bark(10)  # the number is not self: -> only this method want it."
   ]
  },
  {
   "cell_type": "markdown",
   "metadata": {},
   "source": [
    "#### Other example"
   ]
  },
  {
   "cell_type": "code",
   "execution_count": 6,
   "metadata": {},
   "outputs": [
    {
     "name": "stdout",
     "output_type": "stream",
     "text": "3.14\n1\n6.28\n188.4\n2826.0\n"
    }
   ],
   "source": [
    "class Circle():\n",
    "    # Class Object Attribute\n",
    "    # True for every instance of this class\n",
    "    pi = 3.14  # pi is always 3.14\n",
    "\n",
    "    def __init__(self, radius=1):\n",
    "        self.radius = radius\n",
    "\n",
    "    # METHOD\n",
    "    def get_circumference(self):\n",
    "        return self.radius * Circle.pi * 2\n",
    "\n",
    "    def get_area(self):\n",
    "        return self.radius**2 * Circle.pi\n",
    "\n",
    "\n",
    "my_circ = Circle()\n",
    "print(my_circ.pi)\n",
    "print(my_circ.radius)\n",
    "print(my_circ.get_circumference())\n",
    "\n",
    "my_newcirc = Circle(30)\n",
    "print(my_newcirc.get_circumference())\n",
    "print(my_newcirc.get_area())"
   ]
  },
  {
   "cell_type": "markdown",
   "metadata": {},
   "source": [
    "### 4.4. Inheritance - Polymorphism\n",
    "\n",
    "**Inheritance** is basically defining a new class with the help of a class that already have been defined."
   ]
  },
  {
   "cell_type": "code",
   "execution_count": 7,
   "metadata": {},
   "outputs": [
    {
     "name": "stdout",
     "output_type": "stream",
     "text": "Animal created\nAnimal created\nDog created\n"
    }
   ],
   "source": [
    "class Animal():  # Base Class\n",
    "    def __init__(self):\n",
    "        print(\"Animal created\")\n",
    "\n",
    "    def who_am_i(self):\n",
    "        print('I am an animal')\n",
    "\n",
    "    def eat(self):\n",
    "        print('I am eating')\n",
    "\n",
    "\n",
    "class Dog(Animal):  # inherit the base Class Animal\n",
    "    def __init__(self):\n",
    "        # creating an instance of animal, while creating an instance of dog\n",
    "        Animal.__init__(self)\n",
    "        print(\"Dog created\")\n",
    "\n",
    "    def who_am_i(self):  # recreated this method for Dog Class\n",
    "        print('I am a dog!')\n",
    "\n",
    "    def bark(self):  # add a new method only dog dog-class\n",
    "        print('Woof!')\n",
    "\n",
    "\n",
    "# Create instances\n",
    "an1 = Animal()\n",
    "dog1 = Dog()"
   ]
  },
  {
   "cell_type": "code",
   "execution_count": 9,
   "metadata": {},
   "outputs": [
    {
     "data": {
      "text/plain": "<__main__.Animal at 0x10f8131a310>"
     },
     "execution_count": 9,
     "metadata": {},
     "output_type": "execute_result"
    }
   ],
   "source": [
    "an1"
   ]
  },
  {
   "cell_type": "code",
   "execution_count": 10,
   "metadata": {},
   "outputs": [
    {
     "data": {
      "text/plain": "<__main__.Dog at 0x10f81dc2b80>"
     },
     "execution_count": 10,
     "metadata": {},
     "output_type": "execute_result"
    }
   ],
   "source": [
    "dog1"
   ]
  },
  {
   "cell_type": "code",
   "execution_count": 8,
   "metadata": {},
   "outputs": [
    {
     "name": "stdout",
     "output_type": "stream",
     "text": "I am eating\nI am an animal\nI am eating\nI am a dog!\n"
    }
   ],
   "source": [
    "an1.eat()\n",
    "an1.who_am_i()\n",
    "\n",
    "dog1.eat()\n",
    "dog1.who_am_i()"
   ]
  },
  {
   "cell_type": "markdown",
   "metadata": {},
   "source": [
    "**Polymorphism** refers to the way in which different object Refers to the way in which different object classes can share the same name\n",
    "And those methods can be called from the same place even tho a vareity of\n",
    "different objects might be passed in."
   ]
  },
  {
   "cell_type": "code",
   "execution_count": 11,
   "metadata": {},
   "outputs": [
    {
     "name": "stdout",
     "output_type": "stream",
     "text": "nikoSays woof!\nfelixSays meow!\n<class '__main__.Dog'>\n<class 'str'>\n<class '__main__.Cat'>\n<class 'str'>\nnikoSays woof!\nfelixSays meow!\n"
    }
   ],
   "source": [
    "class Dog():\n",
    "\n",
    "    def __init__(self, name):\n",
    "        self.name = name\n",
    "\n",
    "    def speak(self):\n",
    "        return self.name + 'Says woof!'\n",
    "\n",
    "\n",
    "class Cat():\n",
    "\n",
    "    def __init__(self, name):\n",
    "        self.name = name\n",
    "\n",
    "    def speak(self):\n",
    "        return self.name + 'Says meow!'\n",
    "\n",
    "\n",
    "niko = Dog('niko')\n",
    "felix = Cat('felix')\n",
    "\n",
    "print(niko.speak())\n",
    "print(felix.speak())\n",
    "\n",
    "for pet in [niko, felix]:\n",
    "    print(type(pet))\n",
    "    print(type(pet.speak()))\n",
    "# Both classes share the same method name of speak. but the type is different\n",
    "\n",
    "\n",
    "def pet_speak(pet):\n",
    "    print(pet.speak())\n",
    "\n",
    "\n",
    "pet_speak(niko)\n",
    "pet_speak(felix)"
   ]
  },
  {
   "cell_type": "markdown",
   "metadata": {},
   "source": [
    "** Abstract Classes**: Only Base Class"
   ]
  },
  {
   "cell_type": "code",
   "execution_count": 13,
   "metadata": {},
   "outputs": [
    {
     "name": "stdout",
     "output_type": "stream",
     "text": "Fidosay woof!\nIsissay meow!\n"
    }
   ],
   "source": [
    "class Animal():\n",
    "\n",
    "    def __init__(self, name):\n",
    "        self.name = name\n",
    "\n",
    "    def speak(self):\n",
    "        raise NotImplementedError(\n",
    "            'Subclass must implement this abstract method')\n",
    "# Animal is only the base class for Subclasse\n",
    "# We don't want to build an instance for it.\n",
    "\n",
    "\n",
    "myanimal = Animal('fred')\n",
    "# myanimal.speak()\n",
    "# It is expected to inherit the class in a subclass\n",
    "\n",
    "\n",
    "class Dog(Animal):\n",
    "\n",
    "    def speak(self):\n",
    "        return self.name + 'say woof!'\n",
    "\n",
    "\n",
    "class Cat(Animal):\n",
    "\n",
    "    def speak(self):\n",
    "        return self.name + 'say meow!'\n",
    "\n",
    "\n",
    "fido = Dog('Fido')\n",
    "isis = Cat('Isis')\n",
    "\n",
    "print(fido.speak())\n",
    "print(isis.speak())\n",
    "\n",
    "\n",
    "# An example would be opening files\n",
    "# There are many different filetypes like: json, csv, txt, etc.\n",
    "# U want to share the same method-name for all of them -> like dot_open()\n"
   ]
  },
  {
   "cell_type": "markdown",
   "metadata": {},
   "source": [
    "### 4.5. Magic/Dunder Methods\n",
    "\n",
    "Use Built-In functions for a class -> double underline __fun__"
   ]
  },
  {
   "cell_type": "code",
   "execution_count": 15,
   "metadata": {},
   "outputs": [
    {
     "name": "stdout",
     "output_type": "stream",
     "text": "Python rocks by Phili.\n200\nA book object has been deleted\n"
    }
   ],
   "source": [
    "class Book():\n",
    "\n",
    "    def __init__(self, title, author, pages):\n",
    "        self.title = title\n",
    "        self.author = author\n",
    "        self.pages = pages\n",
    "\n",
    "    def __str__(self):\n",
    "        return f\"{self.title} by {self.author}.\"\n",
    "\n",
    "    def __len__(self):\n",
    "        return self.pages\n",
    "\n",
    "    def __del__(self):\n",
    "        print('A book object has been deleted')\n",
    "\n",
    "\n",
    "b = Book('Python rocks', 'Phili', 200)\n",
    "\n",
    "print(b)  # needs __str__ for printing the object\n",
    "\n",
    "print(len(b))\n",
    "\n",
    "del b  # delets b in the memory of the computer"
   ]
  },
  {
   "cell_type": "markdown",
   "metadata": {},
   "source": [
    "### 4.6. Examples\n",
    "\n",
    "#### Bank Account"
   ]
  },
  {
   "cell_type": "code",
   "execution_count": 17,
   "metadata": {},
   "outputs": [
    {
     "name": "stdout",
     "output_type": "stream",
     "text": "Account owner:      Phili \nAccount balance:    $100\n\n\nDeposit Accepted: Deposited $50 to the Account of Phili\nAccount owner:      Phili \nAccount balance:    $150\n\n\nWithdrawal Accepted: Withdrawn $100 of the Account of Phili\nAccount owner:      Phili \nAccount balance:    $50\n\n\nFunds Unavailable!\nAccount owner:      Phili \nAccount balance:    $50\n"
    }
   ],
   "source": [
    "class Account():\n",
    "\n",
    "    def __init__(self, owner, balance=0):\n",
    "        self.owner = owner\n",
    "        self.balance = balance\n",
    "\n",
    "    def deposit(self, dep_amt):\n",
    "        self.balance += dep_amt\n",
    "        print(\n",
    "            f'Deposit Accepted: Deposited ${dep_amt} to the Account of {self.owner}')\n",
    "        return self.balance\n",
    "\n",
    "    def withdraw(self, wd_amt):\n",
    "        if wd_amt > self.balance:\n",
    "            print('Funds Unavailable!')\n",
    "            return self.balance\n",
    "        else:\n",
    "            self.balance -= wd_amt\n",
    "            print(\n",
    "                f'Withdrawal Accepted: Withdrawn ${wd_amt} of the Account of {self.owner}')\n",
    "            return self.balance\n",
    "\n",
    "    def __str__(self):\n",
    "        return (f'Account owner:      {self.owner} \\nAccount balance:    ${self.balance}')\n",
    "\n",
    "\n",
    "acct1 = Account('Phili', 100)\n",
    "print(acct1)\n",
    "print('\\n')\n",
    "\n",
    "acct1.deposit(50)\n",
    "print(acct1)\n",
    "print('\\n')\n",
    "\n",
    "acct1.withdraw(100)\n",
    "print(acct1)\n",
    "print('\\n')\n",
    "\n",
    "acct1.withdraw(100)\n",
    "print(acct1)"
   ]
  },
  {
   "cell_type": "markdown",
   "metadata": {},
   "source": [
    "#### Calculator"
   ]
  },
  {
   "cell_type": "code",
   "execution_count": 18,
   "metadata": {},
   "outputs": [
    {
     "name": "stdout",
     "output_type": "stream",
     "text": "9.433981132056603\n1.6\n56.548667764616276\n94.24777960769379\n"
    }
   ],
   "source": [
    "import math\n",
    "\n",
    "\n",
    "class Line():\n",
    "    def __init__(self, coor1, coor2):\n",
    "        self.coor1 = coor1\n",
    "        self.coor2 = coor2\n",
    "\n",
    "    def distance(self):\n",
    "        return math.sqrt((self.coor2[0] - self.coor1[0])**2 + (self.coor2[1] - self.coor1[1])**2)\n",
    "\n",
    "    def slope(self):\n",
    "        return (self.coor2[1] - self.coor1[1]) / (self.coor2[0] - self.coor1[0])\n",
    "\n",
    "\n",
    "coordinate1 = (3, 2)\n",
    "coordinate2 = (8, 10)\n",
    "\n",
    "li = Line(coordinate1, coordinate2)\n",
    "\n",
    "print(li.distance())\n",
    "\n",
    "print(li.slope())\n",
    "\n",
    "\n",
    "class Cylinder:\n",
    "    def __init__(self, height=1, radius=1):\n",
    "        self.height = height\n",
    "        self.radius = radius\n",
    "\n",
    "    def volume(self):\n",
    "        return math.pi * self.radius**2 * self.height\n",
    "\n",
    "    def surface_area(self):\n",
    "        return (2 * math.pi * self.radius * self.height) + 2 * math.pi * self.radius**2\n",
    "\n",
    "\n",
    "c = Cylinder(2, 3)\n",
    "\n",
    "print(c.volume())\n",
    "\n",
    "print(c.surface_area())"
   ]
  },
  {
   "cell_type": "markdown",
   "metadata": {},
   "source": [
    "## 5. Decorators\n",
    "\n",
    "Decorators are a more advanced Python topic.\n",
    "\n",
    "Decorators allows us to **decorate** functions. With decorators you can add extra functionality to an already existing function:\n",
    "\n",
    "Syntax: @decorator"
   ]
  },
  {
   "cell_type": "code",
   "execution_count": 19,
   "metadata": {},
   "outputs": [
    {
     "name": "stdout",
     "output_type": "stream",
     "text": "Some extra code, before the original function\nI want to be decorated!!\nSome extra code, after the original function\n"
    }
   ],
   "source": [
    "def new_decorator(original_func):\n",
    "\n",
    "    def wrap_func():\n",
    "\n",
    "        print('Some extra code, before the original function')\n",
    "\n",
    "        original_func()\n",
    "\n",
    "        print('Some extra code, after the original function')\n",
    "\n",
    "    return wrap_func\n",
    "\n",
    "\n",
    "@new_decorator\n",
    "def func_needs_decorator():\n",
    "    print('I want to be decorated!!')\n",
    "\n",
    "\n",
    "func_needs_decorator()"
   ]
  },
  {
   "cell_type": "markdown",
   "metadata": {},
   "source": [
    "## 6. Generators\n",
    "\n",
    "This type of functions is a generator in Python,\n",
    "allowing us to generate a sequence of values over time.\n",
    "\n",
    "The main difference in syntax will be the use of a yield statement\n",
    "\n",
    "When a generator function is compiled they become an object that supports\n",
    "an iteration protocol.\n",
    "That means when they are called in your code they don't actually return\n",
    "a value and then exit.\n",
    "\n",
    "Generator functions will automatically suspend an resume their execution\n",
    "and state around the last point of value generation.\n",
    "The advantage is that instead of having to compute an enitre series of\n",
    "values up front, the generator computes one value and waits until the\n",
    "next value is called for.\n",
    "\n",
    "For exampe, the range() function doesnt produce a list in memory for all\n",
    "the values from start to stop.\n",
    "Instead it keeps track of the last number and the step size to provide a\n",
    "flow of numbers.\n",
    "\n",
    "If a user did need the list, the gave to transform the generator to a list\n",
    "with list(range(0, 10))\n",
    "\n",
    "range is a generator\n",
    "\n",
    "Syntax: yield instead of return"
   ]
  },
  {
   "cell_type": "code",
   "execution_count": 20,
   "metadata": {},
   "outputs": [
    {
     "name": "stdout",
     "output_type": "stream",
     "text": "0\n1\n8\n27\n64\n125\n216\n343\n512\n729\n"
    }
   ],
   "source": [
    "def create_cubes(n):\n",
    "    for x in range(n):\n",
    "        yield x**3\n",
    "\n",
    "\n",
    "# with yield: memory efficient\n",
    "# u don't have to save the entire cube list in memory\n",
    "for x in create_cubes(10):\n",
    "    print(x)"
   ]
  },
  {
   "cell_type": "code",
   "execution_count": 21,
   "metadata": {},
   "outputs": [
    {
     "name": "stdout",
     "output_type": "stream",
     "text": "[0, 1, 8, 27, 64, 125, 216, 343, 512, 729]\n"
    }
   ],
   "source": [
    "listc = list(create_cubes(10))  # if u want to have the list\n",
    "print(listc)"
   ]
  },
  {
   "cell_type": "code",
   "execution_count": 22,
   "metadata": {},
   "outputs": [
    {
     "name": "stdout",
     "output_type": "stream",
     "text": "1\n1\n2\n3\n5\n8\n13\n21\n34\n55\n"
    }
   ],
   "source": [
    "def gen_fibon(n):\n",
    "    a = 1\n",
    "    b = 1\n",
    "    for i in range(n):\n",
    "        yield a\n",
    "        a, b = b, a + b\n",
    "\n",
    "\n",
    "for x in gen_fibon(10):\n",
    "    print(x)"
   ]
  },
  {
   "cell_type": "markdown",
   "metadata": {},
   "source": [
    "#### next()"
   ]
  },
  {
   "cell_type": "code",
   "execution_count": 23,
   "metadata": {},
   "outputs": [
    {
     "name": "stdout",
     "output_type": "stream",
     "text": "0\n1\n2\n<generator object simple_gen at 0x0000010F81C8D040>\n0\n1\n2\n"
    }
   ],
   "source": [
    "def simple_gen():\n",
    "    for x in range(3):\n",
    "        yield x\n",
    "\n",
    "for number in simple_gen():\n",
    "    print(number)\n",
    "\n",
    "g = simple_gen()\n",
    "print(g)\n",
    "\n",
    "print(next(g))\n",
    "print(next(g))\n",
    "print(next(g))"
   ]
  },
  {
   "cell_type": "code",
   "execution_count": 25,
   "metadata": {},
   "outputs": [
    {
     "name": "stdout",
     "output_type": "stream",
     "text": "h\ne\nl\nl\no\n\n\nh\ne\nl\n"
    }
   ],
   "source": [
    "s = 'hello'\n",
    "for letter in s:\n",
    "    print(letter)\n",
    "\n",
    "print(\"\\n\")\n",
    "\n",
    "s_iter = iter(s)\n",
    "print(next(s_iter))\n",
    "print(next(s_iter))\n",
    "print(next(s_iter))"
   ]
  },
  {
   "cell_type": "markdown",
   "metadata": {},
   "source": [
    "#### Problem 1:\n",
    "\n",
    "Create a generator that generates the squares of numbers up to some number N."
   ]
  },
  {
   "cell_type": "code",
   "execution_count": 26,
   "metadata": {},
   "outputs": [
    {
     "name": "stdout",
     "output_type": "stream",
     "text": "0\n1\n4\n9\n16\n25\n36\n49\n64\n81\n"
    }
   ],
   "source": [
    "def gensquares(N):\n",
    "    for x in range(N):\n",
    "        yield x**2\n",
    "\n",
    "for x in gensquares(10):\n",
    "    print(x)"
   ]
  },
  {
   "cell_type": "markdown",
   "metadata": {},
   "source": [
    "#### Problem 2:\n",
    "\n",
    "Create a generator that yields \"n\" random numbers between a low and high number (that are inputs).\n",
    "Note: Use the random library. For example:"
   ]
  },
  {
   "cell_type": "code",
   "execution_count": 28,
   "metadata": {},
   "outputs": [
    {
     "name": "stdout",
     "output_type": "stream",
     "text": "8\n2\n8\n7\n4\n7\n8\n1\n10\n4\n9\n3\n"
    }
   ],
   "source": [
    "import random\n",
    "\n",
    "def rand_num(low, high, n):\n",
    "    for x in range(n):\n",
    "        yield random.randint(low, high)\n",
    "\n",
    "for num in rand_num(1, 10, 12):\n",
    "    print(num)"
   ]
  },
  {
   "cell_type": "markdown",
   "metadata": {},
   "source": [
    "#### Problem 3\n",
    "Use the iter() function to convert the string below into an iterator:\n",
    "```py\n",
    "s = 'hello'\n",
    "```"
   ]
  },
  {
   "cell_type": "code",
   "execution_count": 32,
   "metadata": {},
   "outputs": [
    {
     "name": "stdout",
     "output_type": "stream",
     "text": "h\ne\nl\n"
    }
   ],
   "source": [
    "s = 'hello'\n",
    "s_iter = iter(s)\n",
    "print(next(s_iter))\n",
    "print(next(s_iter))\n",
    "print(next(s_iter))"
   ]
  }
 ]
}